{
 "cells": [
  {
   "cell_type": "code",
   "execution_count": null,
   "metadata": {},
   "outputs": [],
   "source": [
    "# script para concatenar os dados de teste \n",
    "# com a previsão realizada pelo modelo 1 com os dados de treino"
   ]
  },
  {
   "cell_type": "code",
   "execution_count": 22,
   "metadata": {},
   "outputs": [],
   "source": [
    "import pandas as pd\n",
    "import os\n",
    "teste = pd.read_csv(os.path.join(os.path.dirname(os.getcwd()), 'data\\\\teste_predict.csv') )\n",
    "t4 = pd.DataFrame(index = teste.index, data=teste.resp)\n",
    "t4.columns = ['Survived']\n",
    "teste = t4.merge(teste, right_index=True, left_index=True).drop('resp', axis=1)\n",
    "treino = pd.read_csv(os.path.join(os.path.dirname(os.getcwd()), 'data\\\\processed_train_data.csv'))\n",
    "pd.concat([treino, teste]).to_csv(os.path.join(os.path.dirname(os.getcwd()), 'data\\\\full_data.csv'), index = False)"
   ]
  }
 ],
 "metadata": {
  "kernelspec": {
   "display_name": "Python 3",
   "language": "python",
   "name": "python3"
  },
  "language_info": {
   "codemirror_mode": {
    "name": "ipython",
    "version": 3
   },
   "file_extension": ".py",
   "mimetype": "text/x-python",
   "name": "python",
   "nbconvert_exporter": "python",
   "pygments_lexer": "ipython3",
   "version": "3.7.6"
  }
 },
 "nbformat": 4,
 "nbformat_minor": 4
}
