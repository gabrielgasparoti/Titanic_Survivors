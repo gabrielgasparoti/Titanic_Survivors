{
 "cells": [
  {
   "cell_type": "code",
   "execution_count": 1,
   "metadata": {},
   "outputs": [],
   "source": [
    "# importando bibliotecas \n",
    "import pandas as pd\n",
    "import numpy as np\n",
    "import matplotlib.pyplot as plt\n",
    "import seaborn as sns\n",
    "import os\n",
    "sns.set_style('whitegrid')"
   ]
  },
  {
   "cell_type": "code",
   "execution_count": 2,
   "metadata": {},
   "outputs": [],
   "source": [
    "def data_dict():\n",
    "    print(''' \n",
    "    Dicionário de Variáveis:\n",
    "    \n",
    "    PassengerId = ID do passageiro\n",
    "\n",
    "    Survived = Variável binária que indica se o passageiro sobreviveu ou não, sendo 1 caso tenha \n",
    "    sobrevivido\n",
    "\n",
    "    Pclass = Classe do passageiro\n",
    "\n",
    "    Name = Nome do passageiro\n",
    "\n",
    "    Sex = Gênero \n",
    "\n",
    "    Age = Idade\n",
    "\n",
    "    SibSp = Quantidade de familiares em relação a irmãos, irmãs, maridos e esposas\n",
    "\n",
    "    Parch = Quantidade de familiares em relação a pai, mãe, filho e filha\n",
    "\n",
    "    Ticket = Número do ticket\n",
    "\n",
    "    Fare = Tarifa\n",
    "\n",
    "    Cabin = Cabine\n",
    "\n",
    "    Embarked = Local de embarque''')\n",
    "    \n",
    "    return None"
   ]
  },
  {
   "cell_type": "code",
   "execution_count": 3,
   "metadata": {},
   "outputs": [],
   "source": [
    "def get_data(path):\n",
    "    df = pd.read_csv(path)\n",
    "    return df"
   ]
  },
  {
   "cell_type": "code",
   "execution_count": 4,
   "metadata": {},
   "outputs": [],
   "source": [
    "def overview(df):\n",
    "    print('\\n\\nVisualizando uma amostra aleatória dos dados: \\n{}'.format(df.sample()))\n",
    "    print('\\n\\nEstamos trabalhando com uma base de {} observações'.format(df.shape[0]))\n",
    "    print('\\n\\nVerificando o tipo de dado e se haverá necessidade de transformar dados categóricos: \\n {}'.format(df.dtypes))\n",
    "    print('\\n\\nVerificando se existem dados faltantes: \\n{}'.format(df.isnull().sum()))\n",
    "    print('\\n\\nEstatísticas Descritivas: \\n{}'.format(df.describe()))\n",
    "    print('\\n\\nEm média as pessoas tinham {:.2f} anos de idade, sendo que a mais nova possuía {:.2f} e a mais velha {:.2f} anos. Além disso, 75% das pessoas possuíam até {} anos'.format(df.Age.mean(), df.Age.min(), df.Age.max(), np.percentile(df.Age, 75)))\n",
    "    print('\\n\\nEm média, a tarifa foi de {:.2f}, porém 50% das pessoas pagaram até {:.2f}, sendo que alguém chegou a pagar {:.2f} e que a maioria pagou até {:.2f}, ou seja, a variância é grande'.format(df.Fare.mean(), df.Fare.median(), df.Fare.max(), np.percentile(df.Fare, 75)))\n",
    "       \n",
    "    return None"
   ]
  },
  {
   "cell_type": "code",
   "execution_count": 5,
   "metadata": {},
   "outputs": [],
   "source": [
    "def show_missing_values(df):\n",
    "    na_columns = [col for col in df.columns if df[col].isnull().sum() > 0]\n",
    "    na_count = df[na_columns].isnull().sum().sort_values(ascending = False)\n",
    "    na_rate = round( df[na_columns].isnull().sum().sort_values(ascending=False)/df.shape[0]*100, 2 )\n",
    "    na_data = pd.concat( [na_count, na_rate], axis=1, keys= ['Count', 'Rate'] ) \n",
    "    print('\\n\\n Relação de dados faltantes por variável:\\n {}'.format(na_data))\n",
    "    print('\\n\\nEm relação aos dados faltantes, na variável {}, {}% de dados faltantes'.format(na_data.index[0], na_data.iloc[0,1]))\n",
    "    print('\\n\\nEm relação aos dados faltantes, na variável {}, {}% de dados faltantes'.format(na_data.index[1], na_data.iloc[1,1]))\n",
    "    print('\\n\\nEm relação aos dados faltantes, na variável {}, {}% de dados faltantes'.format(na_data.index[2], na_data.iloc[2,1]))\n",
    "    \n",
    "    return None"
   ]
  },
  {
   "cell_type": "code",
   "execution_count": 6,
   "metadata": {},
   "outputs": [],
   "source": [
    "def dtype_config(df):\n",
    "    df['Pclass'] = df['Pclass'].astype('O')\n",
    "    df['PassengerId'] = df['PassengerId'].astype('O')\n",
    "    df['Name'] = df['Name'].astype('O')\n",
    "    df['Sex'] = df['Sex'].astype('O')\n",
    "    df['Ticket'] = df['Ticket'].astype('O')\n",
    "    df['Cabin'] = df['Cabin'].astype('O')\n",
    "    df['Embarked'] = df['Embarked'].astype('O')\n",
    "    \n",
    "    return df"
   ]
  },
  {
   "cell_type": "code",
   "execution_count": 7,
   "metadata": {},
   "outputs": [],
   "source": [
    "def fill_age(df):\n",
    "    print('\\n\\nProcessamento de dados faltantes na variável Age:\\n')\n",
    "    df[ 'Age' ] = df.Age.fillna( df.Age.median() )\n",
    "    df['Age'] = df['Age'].astype(int)\n",
    "    print('\\n\\nSubstituímos os valores faltantes pela mediana de cada conjunto.')\n",
    "        \n",
    "    return df"
   ]
  },
  {
   "cell_type": "code",
   "execution_count": 8,
   "metadata": {},
   "outputs": [],
   "source": [
    "def fill_fare(df):\n",
    "    print('\\n\\nTratamento de valores faltantes na variável Fare:\\n')\n",
    "    a = df['Pclass'] == df[df.Fare.isnull()]['Pclass'].value_counts().index[0]\n",
    "    c = df['Sex'] == df[df.Fare.isnull()]['Sex'].value_counts().index[0]\n",
    "    \n",
    "    print('\\n\\nCaracterísticas das observações faltantes: \\n Pclass: {},\\\n",
    "    Sex: {}'.format(df[df.Fare.isnull()]['Pclass'].value_counts().index[0],\n",
    "                    df[df.Fare.isnull()]['Sex'].value_counts().index[0] ) )\n",
    "    \n",
    "    print('\\nPreenchendo os valores faltantes com a mediana de Tarifa das pessoas com as mesmas características...')\n",
    "    df.Fare.fillna(df[a  & c].Fare.median(), inplace = True)\n",
    "    \n",
    "    return df.copy()\n",
    "    "
   ]
  },
  {
   "cell_type": "code",
   "execution_count": 9,
   "metadata": {},
   "outputs": [],
   "source": [
    "def fill_cabin(df):\n",
    "    print('\\n\\nTratamento de valores faltantes da variável Cabin:\\n')\n",
    "    print('Por se tratar de muitos dados faltantes, iremos transformar essa variável como:\\n')\n",
    "    print('1 = possui cabine e 0 = não possui cabine')\n",
    "    \n",
    "    df[ 'Cabin' ] = df.Cabin.fillna(0)\n",
    "    \n",
    "    for i in df.Cabin.unique():\n",
    "        if i != 0:\n",
    "            df.Cabin.replace(i, 1, regex = True, inplace=True )\n",
    "\n",
    "    df['Cabin'] = df['Cabin'].astype('O')\n",
    "    \n",
    "    return df"
   ]
  },
  {
   "cell_type": "code",
   "execution_count": 10,
   "metadata": {},
   "outputs": [],
   "source": [
    "def show_outliers(df):\n",
    "    print('\\n\\nVisualizando Outliers:\\n')\n",
    "    for i in df.describe().columns.values:\n",
    "        print(i)\n",
    "        plt.boxplot(df[i])\n",
    "        plt.show()\n",
    "        \n",
    "    return None"
   ]
  },
  {
   "cell_type": "code",
   "execution_count": 11,
   "metadata": {},
   "outputs": [],
   "source": [
    "def outlier_process(df): \n",
    "    print('\\n\\nIniciando o processo de tratamento de outliers...')\n",
    "    for i in df.describe().columns.values:\n",
    "        Q1 = np.percentile(df[i], 25)\n",
    "        Q3 = np.percentile(df[i], 75)\n",
    "\n",
    "        LI = max( min( df[i] ), (Q1 - (1.5 * (Q3 - Q1) ) ) )\n",
    "        LS = min( max( df[i] ), (Q3 + (1.5 * (Q3 - Q1) ) ) )\n",
    "\n",
    "\n",
    "        for k in df[i]:\n",
    "            if k < LI :\n",
    "                df[i].replace(k, LI, regex = True, inplace = True)\n",
    "            elif k > LS:\n",
    "                df[i].replace(k, LS, regex = True, inplace = True)\n",
    "            else: \n",
    "                None\n",
    "\n",
    "        if df[i].nunique() == 1:\n",
    "            df.drop(i, axis=1, inplace= True)\n",
    "\n",
    "    print('Dessa forma, substituímos todos os valores que estavam fora do intervalo dos limites superior e inferior pelo valor desses limites. Abaixo podemos validar a ação:')\n",
    "    return df"
   ]
  },
  {
   "cell_type": "code",
   "execution_count": 12,
   "metadata": {},
   "outputs": [],
   "source": [
    "def feature_engineering(df):   \n",
    "    try:\n",
    "        print('\\n\\nCriando Novas Variáveis...\\n')\n",
    "        print('\\nCriando uma variável que determina se a pessoa estava sozinha ou com familiares...')\n",
    "        print('\\nCriando uma variável que determina o Título da pessoa (Ms, Miss, Mrs...)...')\n",
    "        print('\\nCriando uma variável que indica a quantidade de letras do nome...')\n",
    "        print('\\nCriando uma variável que indica a quantidade de nomes no nome...')\n",
    "\n",
    "        df['Alone'] = pd.Series(np.arange(0, len(df)))\n",
    "\n",
    "        for i in df.Alone:       \n",
    "            if df.loc[i, 'SibSp'] == 0:\n",
    "                df.loc[i, 'Alone'] = 1\n",
    "            else:\n",
    "                df.loc[i, 'Alone'] = 0\n",
    "\n",
    "        df['Title'] = df.Name.str.split(',').str.get(1)\n",
    "        df['Title'] = df.Title.str.split('.').str.get(0)\n",
    "        df['Title'] = df.Title.replace('Mlle', 'Miss', regex = True)\n",
    "        df['Title'] = df.Title.replace('Ms', 'Miss', regex = True)\n",
    "        df['Title'] = df.Title.replace('Mme', 'Mrs', regex = True)\n",
    "        df['Title'] = df.Title.replace('Lady', 'Miss', regex = True)\n",
    "        df['Title'] = df.Title.replace(['Dr', 'Rev', 'Major', 'Col', 'Don', 'the Countess', 'Sir',\\\n",
    "                                       'Capt', 'Jonkheer', 'Master', 'Othera'], 'Other', regex = True)\n",
    "\n",
    "        df['NameSize'] = df.Name.str.len()\n",
    "        df['NameCount'] = df.Name.str.split(' ').str.len()\n",
    "\n",
    "        print('\\nRemovendo variáveis irrelevantes como Passenger Id, Name e Ticket...')\n",
    "        df.drop(['PassengerId', 'Name', 'Ticket'], axis = 1, inplace = True)\n",
    "\n",
    "        print('\\nSalvando a base de dados antes de tratar variáveis dummies...')\n",
    "        df.to_csv(os.path.join(os.path.dirname(os.getcwd()), 'data\\\\processed_test_data.csv'), index = False)\n",
    "\n",
    "        print('Dados salvos como \"processed_test_data.csv\"...')\n",
    "\n",
    "        print('\\nCriando variáveis dummies para dados categóricos...')\n",
    "        df_dumm = pd.get_dummies( data = df, columns = ['Pclass', 'Sex', 'Embarked', 'Title'], drop_first=True)\n",
    "    except:\n",
    "        print('Erro')\n",
    "\n",
    "    return df_dumm"
   ]
  },
  {
   "cell_type": "code",
   "execution_count": 13,
   "metadata": {
    "scrolled": false
   },
   "outputs": [
    {
     "name": "stdout",
     "output_type": "stream",
     "text": [
      " \n",
      "    Dicionário de Variáveis:\n",
      "    \n",
      "    PassengerId = ID do passageiro\n",
      "\n",
      "    Survived = Variável binária que indica se o passageiro sobreviveu ou não, sendo 1 caso tenha \n",
      "    sobrevivido\n",
      "\n",
      "    Pclass = Classe do passageiro\n",
      "\n",
      "    Name = Nome do passageiro\n",
      "\n",
      "    Sex = Gênero \n",
      "\n",
      "    Age = Idade\n",
      "\n",
      "    SibSp = Quantidade de familiares em relação a irmãos, irmãs, maridos e esposas\n",
      "\n",
      "    Parch = Quantidade de familiares em relação a pai, mãe, filho e filha\n",
      "\n",
      "    Ticket = Número do ticket\n",
      "\n",
      "    Fare = Tarifa\n",
      "\n",
      "    Cabin = Cabine\n",
      "\n",
      "    Embarked = Local de embarque\n",
      "\n",
      "\n",
      "Visualizando uma amostra aleatória dos dados: \n",
      "     PassengerId  Pclass                                             Name  \\\n",
      "411         1303       1  Minahan, Mrs. William Edward (Lillian E Thorpe)   \n",
      "\n",
      "        Sex   Age  SibSp  Parch Ticket  Fare Cabin Embarked  \n",
      "411  female  37.0      1      0  19928  90.0   C78        Q  \n",
      "\n",
      "\n",
      "Estamos trabalhando com uma base de 418 observações\n",
      "\n",
      "\n",
      "Verificando o tipo de dado e se haverá necessidade de transformar dados categóricos: \n",
      " PassengerId      int64\n",
      "Pclass           int64\n",
      "Name            object\n",
      "Sex             object\n",
      "Age            float64\n",
      "SibSp            int64\n",
      "Parch            int64\n",
      "Ticket          object\n",
      "Fare           float64\n",
      "Cabin           object\n",
      "Embarked        object\n",
      "dtype: object\n",
      "\n",
      "\n",
      "Verificando se existem dados faltantes: \n",
      "PassengerId      0\n",
      "Pclass           0\n",
      "Name             0\n",
      "Sex              0\n",
      "Age             86\n",
      "SibSp            0\n",
      "Parch            0\n",
      "Ticket           0\n",
      "Fare             1\n",
      "Cabin          327\n",
      "Embarked         0\n",
      "dtype: int64\n",
      "\n",
      "\n",
      "Estatísticas Descritivas: \n",
      "       PassengerId      Pclass         Age       SibSp       Parch        Fare\n",
      "count   418.000000  418.000000  332.000000  418.000000  418.000000  417.000000\n",
      "mean   1100.500000    2.265550   30.272590    0.447368    0.392344   35.627188\n",
      "std     120.810458    0.841838   14.181209    0.896760    0.981429   55.907576\n",
      "min     892.000000    1.000000    0.170000    0.000000    0.000000    0.000000\n",
      "25%     996.250000    1.000000   21.000000    0.000000    0.000000    7.895800\n",
      "50%    1100.500000    3.000000   27.000000    0.000000    0.000000   14.454200\n",
      "75%    1204.750000    3.000000   39.000000    1.000000    0.000000   31.500000\n",
      "max    1309.000000    3.000000   76.000000    8.000000    9.000000  512.329200\n",
      "\n",
      "\n",
      "Em média as pessoas tinham 30.27 anos de idade, sendo que a mais nova possuía 0.17 e a mais velha 76.00 anos. Além disso, 75% das pessoas possuíam até nan anos\n",
      "\n",
      "\n",
      "Em média, a tarifa foi de 35.63, porém 50% das pessoas pagaram até 14.45, sendo que alguém chegou a pagar 512.33 e que a maioria pagou até nan, ou seja, a variância é grande\n",
      "\n",
      "\n",
      " Relação de dados faltantes por variável:\n",
      "        Count   Rate\n",
      "Cabin    327  78.23\n",
      "Age       86  20.57\n",
      "Fare       1   0.24\n",
      "\n",
      "\n",
      "Em relação aos dados faltantes, na variável Cabin, 78.23% de dados faltantes\n",
      "\n",
      "\n",
      "Em relação aos dados faltantes, na variável Age, 20.57% de dados faltantes\n",
      "\n",
      "\n",
      "Em relação aos dados faltantes, na variável Fare, 0.24% de dados faltantes\n",
      "\n",
      "\n",
      "Processamento de dados faltantes na variável Age:\n",
      "\n",
      "\n",
      "\n",
      "Substituímos os valores faltantes pela mediana de cada conjunto.\n",
      "\n",
      "\n",
      "Tratamento de valores faltantes na variável Fare:\n",
      "\n",
      "\n",
      "\n",
      "Características das observações faltantes: \n",
      " Pclass: 3,    Sex: male\n",
      "\n",
      "Preenchendo os valores faltantes com a mediana de Tarifa das pessoas com as mesmas características...\n",
      "\n",
      "\n",
      "Tratamento de valores faltantes da variável Cabin:\n",
      "\n",
      "Por se tratar de muitos dados faltantes, iremos transformar essa variável como:\n",
      "\n",
      "1 = possui cabine e 0 = não possui cabine\n",
      "\n",
      "\n",
      "Visualizando Outliers:\n",
      "\n",
      "Age\n"
     ]
    },
    {
     "data": {
      "image/png": "[encoded data removed]",
      "text/plain": [
       "<Figure size 432x288 with 1 Axes>"
      ]
     },
     "metadata": {},
     "output_type": "display_data"
    },
    {
     "name": "stdout",
     "output_type": "stream",
     "text": [
      "SibSp\n"
     ]
    },
    {
     "data": {
      "image/png": "[encoded data removed]",
      "text/plain": [
       "<Figure size 432x288 with 1 Axes>"
      ]
     },
     "metadata": {},
     "output_type": "display_data"
    },
    {
     "name": "stdout",
     "output_type": "stream",
     "text": [
      "Parch\n"
     ]
    },
    {
     "data": {
      "image/png": "[encoded data removed]",
      "text/plain": [
       "<Figure size 432x288 with 1 Axes>"
      ]
     },
     "metadata": {},
     "output_type": "display_data"
    },
    {
     "name": "stdout",
     "output_type": "stream",
     "text": [
      "Fare\n"
     ]
    },
    {
     "data": {
      "image/png": "[encoded data removed]",
      "text/plain": [
       "<Figure size 432x288 with 1 Axes>"
      ]
     },
     "metadata": {},
     "output_type": "display_data"
    },
    {
     "name": "stdout",
     "output_type": "stream",
     "text": [
      "\n",
      "\n",
      "Iniciando o processo de tratamento de outliers...\n",
      "Dessa forma, substituímos todos os valores que estavam fora do intervalo dos limites superior e inferior pelo valor desses limites. Abaixo podemos validar a ação:\n",
      "\n",
      "\n",
      "Visualizando Outliers:\n",
      "\n",
      "Age\n"
     ]
    },
    {
     "data": {
      "image/png": "[encoded data removed]",
      "text/plain": [
       "<Figure size 432x288 with 1 Axes>"
      ]
     },
     "metadata": {},
     "output_type": "display_data"
    },
    {
     "name": "stdout",
     "output_type": "stream",
     "text": [
      "SibSp\n"
     ]
    },
    {
     "data": {
      "image/png": "[encoded data removed]",
      "text/plain": [
       "<Figure size 432x288 with 1 Axes>"
      ]
     },
     "metadata": {},
     "output_type": "display_data"
    },
    {
     "name": "stdout",
     "output_type": "stream",
     "text": [
      "Fare\n"
     ]
    },
    {
     "data": {
      "image/png": "[encoded data removed]",
      "text/plain": [
       "<Figure size 432x288 with 1 Axes>"
      ]
     },
     "metadata": {},
     "output_type": "display_data"
    },
    {
     "name": "stdout",
     "output_type": "stream",
     "text": [
      "\n",
      "\n",
      "Criando Novas Variáveis...\n",
      "\n",
      "\n",
      "Criando uma variável que determina se a pessoa estava sozinha ou com familiares...\n",
      "\n",
      "Criando uma variável que determina o Título da pessoa (Ms, Miss, Mrs...)...\n",
      "\n",
      "Criando uma variável que indica a quantidade de letras do nome...\n",
      "\n",
      "Criando uma variável que indica a quantidade de nomes no nome...\n",
      "\n",
      "Removendo variáveis irrelevantes como Passenger Id, Name e Ticket...\n",
      "\n",
      "Salvando a base de dados antes de tratar variáveis dummies...\n",
      "Dados salvos como \"processed_test_data.csv\"...\n",
      "\n",
      "Criando variáveis dummies para dados categóricos...\n",
      "\n",
      "\n",
      "Visualizando uma amostra aleatória dos dados: \n",
      "      Age  SibSp  Fare Cabin  Alone  NameSize  NameCount  Pclass_2  Pclass_3  \\\n",
      "285  36.0    0.0  7.25     0      1        19          3         0         1   \n",
      "\n",
      "     Sex_male  Embarked_Q  Embarked_S  Title_ Mr  Title_ Mrs  Title_ Other  \n",
      "285         1           0           1          1           0             0  \n",
      "\n",
      "\n",
      "Estamos trabalhando com uma base de 418 observações\n",
      "\n",
      "\n",
      "Verificando o tipo de dado e se haverá necessidade de transformar dados categóricos: \n",
      " Age             float64\n",
      "SibSp           float64\n",
      "Fare            float64\n",
      "Cabin            object\n",
      "Alone             int32\n",
      "NameSize          int64\n",
      "NameCount         int64\n",
      "Pclass_2          uint8\n",
      "Pclass_3          uint8\n",
      "Sex_male          uint8\n",
      "Embarked_Q        uint8\n",
      "Embarked_S        uint8\n",
      "Title_ Mr         uint8\n",
      "Title_ Mrs        uint8\n",
      "Title_ Other      uint8\n",
      "dtype: object\n",
      "\n",
      "\n",
      "Verificando se existem dados faltantes: \n",
      "Age             0\n",
      "SibSp           0\n",
      "Fare            0\n",
      "Cabin           0\n",
      "Alone           0\n",
      "NameSize        0\n",
      "NameCount       0\n",
      "Pclass_2        0\n",
      "Pclass_3        0\n",
      "Sex_male        0\n",
      "Embarked_Q      0\n",
      "Embarked_S      0\n",
      "Title_ Mr       0\n",
      "Title_ Mrs      0\n",
      "Title_ Other    0\n",
      "dtype: int64\n",
      "\n",
      "\n",
      "Estatísticas Descritivas: \n",
      "              Age       SibSp        Fare       Alone    NameSize   NameCount  \\\n",
      "count  418.000000  418.000000  418.000000  418.000000  418.000000  418.000000   \n",
      "mean    29.338517    0.395933   24.628310    0.677033   27.483254    4.131579   \n",
      "std     11.772923    0.637033   21.202920    0.468170    9.971228    1.213200   \n",
      "min      3.875000    0.000000    0.000000    0.000000   13.000000    3.000000   \n",
      "25%     23.000000    0.000000    7.895800    0.000000   20.000000    3.000000   \n",
      "50%     27.000000    0.000000   14.454200    1.000000   25.000000    4.000000   \n",
      "75%     35.750000    1.000000   31.471875    1.000000   30.750000    4.750000   \n",
      "max     54.875000    2.500000   66.835988    1.000000   63.000000    9.000000   \n",
      "\n",
      "         Pclass_2    Pclass_3    Sex_male  Embarked_Q  Embarked_S   Title_ Mr  \\\n",
      "count  418.000000  418.000000  418.000000  418.000000  418.000000  418.000000   \n",
      "mean     0.222488    0.521531    0.636364    0.110048    0.645933    0.574163   \n",
      "std      0.416416    0.500135    0.481622    0.313324    0.478803    0.495062   \n",
      "min      0.000000    0.000000    0.000000    0.000000    0.000000    0.000000   \n",
      "25%      0.000000    0.000000    0.000000    0.000000    0.000000    0.000000   \n",
      "50%      0.000000    1.000000    1.000000    0.000000    1.000000    1.000000   \n",
      "75%      0.000000    1.000000    1.000000    0.000000    1.000000    1.000000   \n",
      "max      1.000000    1.000000    1.000000    1.000000    1.000000    1.000000   \n",
      "\n",
      "       Title_ Mrs  Title_ Other  \n",
      "count  418.000000    418.000000  \n",
      "mean     0.172249      0.064593  \n",
      "std      0.378049      0.246101  \n",
      "min      0.000000      0.000000  \n",
      "25%      0.000000      0.000000  \n",
      "50%      0.000000      0.000000  \n",
      "75%      0.000000      0.000000  \n",
      "max      1.000000      1.000000  \n",
      "\n",
      "\n",
      "Em média as pessoas tinham 29.34 anos de idade, sendo que a mais nova possuía 3.88 e a mais velha 54.88 anos. Além disso, 75% das pessoas possuíam até 35.75 anos\n",
      "\n",
      "\n",
      "Em média, a tarifa foi de 24.63, porém 50% das pessoas pagaram até 14.45, sendo que alguém chegou a pagar 66.84 e que a maioria pagou até 31.47, ou seja, a variância é grande\n"
     ]
    }
   ],
   "source": [
    "if __name__ == '__main__':\n",
    "    \n",
    "    data_dict()\n",
    "    data = get_data( path = os.path.join(os.path.dirname(os.getcwd()), 'data\\\\test.csv') )\n",
    "    overview( data )\n",
    "    show_missing_values( data )\n",
    "    \n",
    "    data = dtype_config( data )\n",
    "    data = fill_age( data )\n",
    "    data = fill_fare( data )\n",
    "    data = fill_cabin( data )\n",
    "    show_outliers( data )\n",
    "    data = outlier_process( data )\n",
    "    show_outliers( data )\n",
    "\n",
    "    \n",
    "    data = feature_engineering( data )\n",
    "    overview( data )"
   ]
  },
  {
   "cell_type": "code",
   "execution_count": null,
   "metadata": {},
   "outputs": [],
   "source": []
  }
 ],
 "metadata": {
  "kernelspec": {
   "display_name": "Python 3",
   "language": "python",
   "name": "python3"
  },
  "language_info": {
   "codemirror_mode": {
    "name": "ipython",
    "version": 3
   },
   "file_extension": ".py",
   "mimetype": "text/x-python",
   "name": "python",
   "nbconvert_exporter": "python",
   "pygments_lexer": "ipython3",
   "version": "3.7.6"
  }
 },
 "nbformat": 4,
 "nbformat_minor": 4
}
